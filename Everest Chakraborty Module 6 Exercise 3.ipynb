{
 "cells": [
  {
   "cell_type": "markdown",
   "id": "43a0bb58",
   "metadata": {},
   "source": [
    "### Exercise 3\n",
    "\n",
    "Fix code in the below cell. The output should print out a \"You got this!\" message. \n",
    "Do not change any assignment statements or print statements. \n"
   ]
  },
  {
   "cell_type": "code",
   "execution_count": 1,
   "id": "5c2ad22a",
   "metadata": {},
   "outputs": [
    {
     "name": "stdout",
     "output_type": "stream",
     "text": [
      "\"You got this!\"\n"
     ]
    }
   ],
   "source": [
    "x = \"here\"\n",
    "\n",
    "def myfunc() :\n",
    "    y = \"got\"\n",
    "    \n",
    "def inner_func() :\n",
    "    global z\n",
    "        \n",
    "        \n",
    "z = \"\\\"You\"\n",
    "        \n",
    "def inner() :\n",
    "    global y\n",
    "    y = \"got\"\n",
    "            \n",
    "        \n",
    "        \n",
    "inner()\n",
    "print(z, end= \" \")\n",
    "x = \"this!\\\"\"\n",
    "                \n",
    "    \n",
    "inner_func() \n",
    "print(y, end= \" \") \n",
    "myfunc()  \n",
    "print(x)"
   ]
  },
  {
   "cell_type": "code",
   "execution_count": null,
   "id": "307dfa61",
   "metadata": {},
   "outputs": [],
   "source": []
  }
 ],
 "metadata": {
  "kernelspec": {
   "display_name": "Python 3 (ipykernel)",
   "language": "python",
   "name": "python3"
  },
  "language_info": {
   "codemirror_mode": {
    "name": "ipython",
    "version": 3
   },
   "file_extension": ".py",
   "mimetype": "text/x-python",
   "name": "python",
   "nbconvert_exporter": "python",
   "pygments_lexer": "ipython3",
   "version": "3.9.12"
  }
 },
 "nbformat": 4,
 "nbformat_minor": 5
}
